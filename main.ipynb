{
 "cells": [
  {
   "cell_type": "markdown",
   "metadata": {},
   "source": []
  },
  {
   "cell_type": "code",
   "execution_count": 40,
   "metadata": {},
   "outputs": [
    {
     "name": "stdout",
     "output_type": "stream",
     "text": [
      "kuni alex\n"
     ]
    }
   ],
   "source": [
    "provider"
   ]
  },
  {
   "cell_type": "code",
   "execution_count": 41,
   "metadata": {},
   "outputs": [],
   "source": [
    "import pandas as pd\n",
    "import matplotlib.pyplot as plt"
   ]
  },
  {
   "cell_type": "code",
   "execution_count": 42,
   "metadata": {},
   "outputs": [],
   "source": [
    "ex_rates = pd.read_csv(\"CardON/ex_rates.csv\")\n",
    "payments = pd.read_csv(\"payments.csv\")\n",
    "providers = pd.read_csv(\"providers.csv\")"
   ]
  },
  {
   "cell_type": "code",
   "execution_count": 43,
   "metadata": {},
   "outputs": [
    {
     "name": "stdout",
     "output_type": "stream",
     "text": [
      "22\n",
      "393032\n",
      "937\n"
     ]
    }
   ],
   "source": [
    "print(len(ex_rates))\n",
    "print(len(payments))\n",
    "print(len(providers))\n"
   ]
  },
  {
   "cell_type": "code",
   "execution_count": 44,
   "metadata": {},
   "outputs": [
    {
     "data": {
      "text/html": [
       "<div>\n",
       "<style scoped>\n",
       "    .dataframe tbody tr th:only-of-type {\n",
       "        vertical-align: middle;\n",
       "    }\n",
       "\n",
       "    .dataframe tbody tr th {\n",
       "        vertical-align: top;\n",
       "    }\n",
       "\n",
       "    .dataframe thead th {\n",
       "        text-align: right;\n",
       "    }\n",
       "</style>\n",
       "<table border=\"1\" class=\"dataframe\">\n",
       "  <thead>\n",
       "    <tr style=\"text-align: right;\">\n",
       "      <th></th>\n",
       "      <th>rate</th>\n",
       "      <th>destination</th>\n",
       "    </tr>\n",
       "  </thead>\n",
       "  <tbody>\n",
       "    <tr>\n",
       "      <th>0</th>\n",
       "      <td>0.586865</td>\n",
       "      <td>AZN</td>\n",
       "    </tr>\n",
       "    <tr>\n",
       "      <th>1</th>\n",
       "      <td>1.041829</td>\n",
       "      <td>EUR</td>\n",
       "    </tr>\n",
       "    <tr>\n",
       "      <th>2</th>\n",
       "      <td>0.128461</td>\n",
       "      <td>HKD</td>\n",
       "    </tr>\n",
       "    <tr>\n",
       "      <th>3</th>\n",
       "      <td>0.000712</td>\n",
       "      <td>KRW</td>\n",
       "    </tr>\n",
       "    <tr>\n",
       "      <th>4</th>\n",
       "      <td>0.650000</td>\n",
       "      <td>AUD</td>\n",
       "    </tr>\n",
       "  </tbody>\n",
       "</table>\n",
       "</div>"
      ],
      "text/plain": [
       "       rate destination\n",
       "0  0.586865         AZN\n",
       "1  1.041829         EUR\n",
       "2  0.128461         HKD\n",
       "3  0.000712         KRW\n",
       "4  0.650000         AUD"
      ]
     },
     "execution_count": 44,
     "metadata": {},
     "output_type": "execute_result"
    }
   ],
   "source": [
    "ex_rates.head()"
   ]
  },
  {
   "cell_type": "code",
   "execution_count": 47,
   "metadata": {},
   "outputs": [
    {
     "data": {
      "text/html": [
       "<div>\n",
       "<style scoped>\n",
       "    .dataframe tbody tr th:only-of-type {\n",
       "        vertical-align: middle;\n",
       "    }\n",
       "\n",
       "    .dataframe tbody tr th {\n",
       "        vertical-align: top;\n",
       "    }\n",
       "\n",
       "    .dataframe thead th {\n",
       "        text-align: right;\n",
       "    }\n",
       "</style>\n",
       "<table border=\"1\" class=\"dataframe\">\n",
       "  <thead>\n",
       "    <tr style=\"text-align: right;\">\n",
       "      <th></th>\n",
       "      <th>eventTimeRes</th>\n",
       "      <th>amount</th>\n",
       "      <th>cur</th>\n",
       "      <th>payment</th>\n",
       "      <th>cardToken</th>\n",
       "    </tr>\n",
       "  </thead>\n",
       "  <tbody>\n",
       "    <tr>\n",
       "      <th>0</th>\n",
       "      <td>2024-11-24 21:00:00</td>\n",
       "      <td>700.0</td>\n",
       "      <td>RUB</td>\n",
       "      <td>c77be33e8db2f5352ebbc0a1b3f10e3e</td>\n",
       "      <td>336d5ebc5436534e61d16e63ddfca327</td>\n",
       "    </tr>\n",
       "    <tr>\n",
       "      <th>1</th>\n",
       "      <td>2024-11-24 21:00:01</td>\n",
       "      <td>180.0</td>\n",
       "      <td>BRL</td>\n",
       "      <td>0ab79b6d41d6e887e84ec4a85ea33733</td>\n",
       "      <td>336d5ebc5436534e61d16e63ddfca327</td>\n",
       "    </tr>\n",
       "    <tr>\n",
       "      <th>2</th>\n",
       "      <td>2024-11-24 21:00:01</td>\n",
       "      <td>945.9</td>\n",
       "      <td>RUB</td>\n",
       "      <td>c9a03cbbe592f930d52416b049bc1d1a</td>\n",
       "      <td>336d5ebc5436534e61d16e63ddfca327</td>\n",
       "    </tr>\n",
       "    <tr>\n",
       "      <th>3</th>\n",
       "      <td>2024-11-24 21:00:01</td>\n",
       "      <td>35.0</td>\n",
       "      <td>BRL</td>\n",
       "      <td>90a88e0d5b6bfff12909878f265cc2f4</td>\n",
       "      <td>336d5ebc5436534e61d16e63ddfca327</td>\n",
       "    </tr>\n",
       "    <tr>\n",
       "      <th>4</th>\n",
       "      <td>2024-11-24 21:00:01</td>\n",
       "      <td>90.0</td>\n",
       "      <td>BRL</td>\n",
       "      <td>f3adde51de36a39508d11d4bf4a98edc</td>\n",
       "      <td>336d5ebc5436534e61d16e63ddfca327</td>\n",
       "    </tr>\n",
       "  </tbody>\n",
       "</table>\n",
       "</div>"
      ],
      "text/plain": [
       "          eventTimeRes  amount  cur                           payment  \\\n",
       "0  2024-11-24 21:00:00   700.0  RUB  c77be33e8db2f5352ebbc0a1b3f10e3e   \n",
       "1  2024-11-24 21:00:01   180.0  BRL  0ab79b6d41d6e887e84ec4a85ea33733   \n",
       "2  2024-11-24 21:00:01   945.9  RUB  c9a03cbbe592f930d52416b049bc1d1a   \n",
       "3  2024-11-24 21:00:01    35.0  BRL  90a88e0d5b6bfff12909878f265cc2f4   \n",
       "4  2024-11-24 21:00:01    90.0  BRL  f3adde51de36a39508d11d4bf4a98edc   \n",
       "\n",
       "                          cardToken  \n",
       "0  336d5ebc5436534e61d16e63ddfca327  \n",
       "1  336d5ebc5436534e61d16e63ddfca327  \n",
       "2  336d5ebc5436534e61d16e63ddfca327  \n",
       "3  336d5ebc5436534e61d16e63ddfca327  \n",
       "4  336d5ebc5436534e61d16e63ddfca327  "
      ]
     },
     "execution_count": 47,
     "metadata": {},
     "output_type": "execute_result"
    }
   ],
   "source": [
    "payments.head(5)"
   ]
  },
  {
   "cell_type": "markdown",
   "metadata": {},
   "source": [
    "TIME - дата и время, с которого состояние провайдера становится актуальным для платежей\n",
    "\n",
    "ID - идентификатор провайдера\n",
    "\n",
    "CONVERSION - идентификатор провайдера (отношение успешных к неуспешным платежам)\n",
    "\n",
    "AVG_TIME - среднее время выполнения платежа на провайдере\n",
    "\n",
    "MIN_SUM - минимальная сумма платежа (минимальный чек покупки)\n",
    "\n",
    "MAX_SUM - максимальная сумма платежа (максимальный чек покупки)\n",
    "\n",
    "LIMIT_MAX - максимальная общая сумма на провайдере за сутки\n",
    "\n",
    "(припревышении значения перестают проходить платежи)\n",
    "\n",
    "LIMIT_MIN - минимальнаяобщая сумма на провайдере за сутки\n",
    "\n",
    "(принедостижении значения получаем штрафы за невыработку объема)\n",
    "\n",
    "LIMIT_BY_CARD - лимитпосумме платежей в разрезе одной карты плательщика\n",
    "\n",
    "COMMISSION - комиссия, взимаемая провайдером\n",
    "\n",
    "CURRENCY - валютапровайдера"
   ]
  },
  {
   "cell_type": "markdown",
   "metadata": {},
   "source": [
    "Понять, какая разумная CONVERSION и AVG_TIME для провайдера. Это один из самых важных критериев: как же мы распределеим те или иные параметры (они зависят друг от друга). Опираться необходимо на цель заработать денег.\n",
    "\n",
    "Лимит - важный параметр. Штраф - 1% от минимального лимита, если лимит не достигнут\n",
    "\n"
   ]
  },
  {
   "cell_type": "code",
   "execution_count": 64,
   "metadata": {},
   "outputs": [
    {
     "data": {
      "text/plain": [
       "array([ 0, 26, 28, 29, 30, 31, 32, 33, 34, 35, 36, 37, 38, 39, 40, 41, 42,\n",
       "       43, 44, 45, 46, 47, 25, 24, 27, 22,  1,  2,  3,  4,  5,  6,  7,  8,\n",
       "       23, 10, 11,  9, 13, 14, 15, 16, 17, 18, 19, 20, 12, 21])"
      ]
     },
     "execution_count": 64,
     "metadata": {},
     "output_type": "execute_result"
    }
   ],
   "source": [
    "providers['ID'].unique()"
   ]
  },
  {
   "cell_type": "code",
   "execution_count": 59,
   "metadata": {},
   "outputs": [],
   "source": [
    "providers_normalized = providers.copy()\n",
    "providers_normalized['TIME'] = pd.to_datetime(providers_normalized['TIME'])\n",
    "numeric_columns = ['CONVERSION', 'AVG_TIME', 'MIN_SUM', 'MAX_SUM', 'LIMIT_MAX', 'LIMIT_MIN', 'COMMISSION']\n",
    "\n",
    "for column in numeric_columns:\n",
    "    min_val = providers_normalized[column].min()\n",
    "    max_val = providers_normalized[column].max()\n",
    "    providers_normalized[column] = (providers_normalized[column] - min_val) / (max_val - min_val)"
   ]
  },
  {
   "cell_type": "code",
   "execution_count": 60,
   "metadata": {},
   "outputs": [
    {
     "data": {
      "text/html": [
       "<div>\n",
       "<style scoped>\n",
       "    .dataframe tbody tr th:only-of-type {\n",
       "        vertical-align: middle;\n",
       "    }\n",
       "\n",
       "    .dataframe tbody tr th {\n",
       "        vertical-align: top;\n",
       "    }\n",
       "\n",
       "    .dataframe thead th {\n",
       "        text-align: right;\n",
       "    }\n",
       "</style>\n",
       "<table border=\"1\" class=\"dataframe\">\n",
       "  <thead>\n",
       "    <tr style=\"text-align: right;\">\n",
       "      <th></th>\n",
       "      <th>TIME</th>\n",
       "      <th>ID</th>\n",
       "      <th>CONVERSION</th>\n",
       "      <th>AVG_TIME</th>\n",
       "      <th>MIN_SUM</th>\n",
       "      <th>MAX_SUM</th>\n",
       "      <th>LIMIT_MIN</th>\n",
       "      <th>LIMIT_MAX</th>\n",
       "      <th>LIMIT_BY_CARD</th>\n",
       "      <th>COMMISSION</th>\n",
       "      <th>CURRENCY</th>\n",
       "    </tr>\n",
       "  </thead>\n",
       "  <tbody>\n",
       "    <tr>\n",
       "      <th>0</th>\n",
       "      <td>2024-11-24 21:00:00</td>\n",
       "      <td>0</td>\n",
       "      <td>0.0</td>\n",
       "      <td>0.5</td>\n",
       "      <td>0.750</td>\n",
       "      <td>0.384615</td>\n",
       "      <td>0.666667</td>\n",
       "      <td>0.305913</td>\n",
       "      <td>-</td>\n",
       "      <td>0.571429</td>\n",
       "      <td>UZS</td>\n",
       "    </tr>\n",
       "    <tr>\n",
       "      <th>1</th>\n",
       "      <td>2024-11-24 21:00:00</td>\n",
       "      <td>26</td>\n",
       "      <td>0.6</td>\n",
       "      <td>0.9</td>\n",
       "      <td>0.750</td>\n",
       "      <td>0.461538</td>\n",
       "      <td>0.333333</td>\n",
       "      <td>0.452442</td>\n",
       "      <td>-</td>\n",
       "      <td>0.857143</td>\n",
       "      <td>MYR</td>\n",
       "    </tr>\n",
       "    <tr>\n",
       "      <th>2</th>\n",
       "      <td>2024-11-24 21:00:00</td>\n",
       "      <td>28</td>\n",
       "      <td>0.6</td>\n",
       "      <td>0.7</td>\n",
       "      <td>0.125</td>\n",
       "      <td>0.923077</td>\n",
       "      <td>0.666667</td>\n",
       "      <td>0.511568</td>\n",
       "      <td>-</td>\n",
       "      <td>0.857143</td>\n",
       "      <td>MYR</td>\n",
       "    </tr>\n",
       "    <tr>\n",
       "      <th>3</th>\n",
       "      <td>2024-11-24 21:00:00</td>\n",
       "      <td>29</td>\n",
       "      <td>0.6</td>\n",
       "      <td>0.3</td>\n",
       "      <td>0.000</td>\n",
       "      <td>0.923077</td>\n",
       "      <td>0.888889</td>\n",
       "      <td>0.352185</td>\n",
       "      <td>-</td>\n",
       "      <td>0.428571</td>\n",
       "      <td>USD</td>\n",
       "    </tr>\n",
       "    <tr>\n",
       "      <th>4</th>\n",
       "      <td>2024-11-24 21:00:00</td>\n",
       "      <td>30</td>\n",
       "      <td>0.0</td>\n",
       "      <td>0.0</td>\n",
       "      <td>0.375</td>\n",
       "      <td>0.615385</td>\n",
       "      <td>0.777778</td>\n",
       "      <td>0.786632</td>\n",
       "      <td>-</td>\n",
       "      <td>1.000000</td>\n",
       "      <td>USD</td>\n",
       "    </tr>\n",
       "  </tbody>\n",
       "</table>\n",
       "</div>"
      ],
      "text/plain": [
       "                 TIME  ID  CONVERSION  AVG_TIME  MIN_SUM   MAX_SUM  LIMIT_MIN  \\\n",
       "0 2024-11-24 21:00:00   0         0.0       0.5    0.750  0.384615   0.666667   \n",
       "1 2024-11-24 21:00:00  26         0.6       0.9    0.750  0.461538   0.333333   \n",
       "2 2024-11-24 21:00:00  28         0.6       0.7    0.125  0.923077   0.666667   \n",
       "3 2024-11-24 21:00:00  29         0.6       0.3    0.000  0.923077   0.888889   \n",
       "4 2024-11-24 21:00:00  30         0.0       0.0    0.375  0.615385   0.777778   \n",
       "\n",
       "   LIMIT_MAX LIMIT_BY_CARD  COMMISSION CURRENCY  \n",
       "0   0.305913             -    0.571429      UZS  \n",
       "1   0.452442             -    0.857143      MYR  \n",
       "2   0.511568             -    0.857143      MYR  \n",
       "3   0.352185             -    0.428571      USD  \n",
       "4   0.786632             -    1.000000      USD  "
      ]
     },
     "execution_count": 60,
     "metadata": {},
     "output_type": "execute_result"
    }
   ],
   "source": [
    "providers_normalized.head(5)"
   ]
  },
  {
   "cell_type": "code",
   "execution_count": 34,
   "metadata": {},
   "outputs": [
    {
     "data": {
      "image/png": "[encoded data removed]",
      "text/plain": [
       "<Figure size 500x300 with 1 Axes>"
      ]
     },
     "metadata": {},
     "output_type": "display_data"
    }
   ],
   "source": [
    "plt.figure(figsize=(5, 3))\n",
    "\n",
    "providers['COMMISSION'].value_counts().sort_index().plot(kind='bar')\n",
    "\n",
    "plt.title('Распределение комиссии')\n",
    "plt.xlabel('Комиссия')\n",
    "plt.ylabel('Количество провайдеров')\n",
    "plt.show()# Создание столбчатой диаграммы\n",
    "plt.bar(categories, values, color='skyblue')\n",
    "\n",
    "# Добавление подписей к каждому столбцу\n",
    "for i, value in enumerate(values):\n",
    "    plt.text(i, value + 0.5, str(value), ha='center', va='bottom')\n",
    "\n",
    "# Настройки графика\n",
    "plt.xlabel('Категории')\n",
    "plt.ylabel('Количество')\n",
    "plt.title('Столбчатая диаграмма с подписями')\n",
    "plt.ylim(0, max(values) + 5)  # Увеличиваем верхнюю границу для удобства\n",
    "\n",
    "# Показать график\n",
    "plt.show()"
   ]
  },
  {
   "cell_type": "code",
   "execution_count": 63,
   "metadata": {},
   "outputs": [],
   "source": [
    "def calculate_provider_score(row, amount, currency, payment_time):\n",
    "    score = 0\n",
    "    conversion_score = row['CONVERSION'] * 40\n",
    "    commission_score = (1 - row['COMMISSION']) * 25\n",
    "    avg_time_score = (1 - row['AVG_TIME']) * 20\n",
    "    \n",
    "\n",
    "    \n",
    "    return score"
   ]
  },
  {
   "cell_type": "code",
   "execution_count": null,
   "metadata": {},
   "outputs": [],
   "source": []
  },
  {
   "cell_type": "code",
   "execution_count": null,
   "metadata": {},
   "outputs": [],
   "source": []
  },
  {
   "cell_type": "code",
   "execution_count": null,
   "metadata": {},
   "outputs": [],
   "source": []
  },
  {
   "cell_type": "code",
   "execution_count": null,
   "metadata": {},
   "outputs": [],
   "source": []
  },
  {
   "cell_type": "code",
   "execution_count": null,
   "metadata": {},
   "outputs": [],
   "source": []
  },
  {
   "cell_type": "code",
   "execution_count": null,
   "metadata": {},
   "outputs": [],
   "source": []
  },
  {
   "cell_type": "code",
   "execution_count": null,
   "metadata": {},
   "outputs": [],
   "source": []
  },
  {
   "cell_type": "code",
   "execution_count": null,
   "metadata": {},
   "outputs": [],
   "source": []
  },
  {
   "cell_type": "code",
   "execution_count": null,
   "metadata": {},
   "outputs": [],
   "source": []
  },
  {
   "cell_type": "code",
   "execution_count": null,
   "metadata": {},
   "outputs": [],
   "source": []
  }
 ],
 "metadata": {
  "kernelspec": {
   "display_name": "base",
   "language": "python",
   "name": "python3"
  },
  "language_info": {
   "codemirror_mode": {
    "name": "ipython",
    "version": 3
   },
   "file_extension": ".py",
   "mimetype": "text/x-python",
   "name": "python",
   "nbconvert_exporter": "python",
   "pygments_lexer": "ipython3",
   "version": "3.12.4"
  }
 },
 "nbformat": 4,
 "nbformat_minor": 2
}
